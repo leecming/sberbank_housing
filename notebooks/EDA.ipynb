{
 "cells": [
  {
   "cell_type": "code",
   "execution_count": 154,
   "metadata": {},
   "outputs": [],
   "source": [
    "%matplotlib inline\n",
    "import numpy as np\n",
    "import pandas as pd\n",
    "from sklearn.preprocessing import StandardScaler"
   ]
  },
  {
   "cell_type": "code",
   "execution_count": 2,
   "metadata": {
    "scrolled": true
   },
   "outputs": [],
   "source": [
    "price_trends = pd.read_csv('../data/train.csv')[['timestamp', 'price_doc']]\n",
    "price_trends['timestamp'] = pd.to_datetime(price_trends['timestamp'])\n",
    "price_trends = price_trends.set_index('timestamp')\n",
    "price_trends = price_trends.resample('M').mean()\n",
    "price_trends['color'] = 'historical'"
   ]
  },
  {
   "cell_type": "code",
   "execution_count": 3,
   "metadata": {
    "scrolled": true
   },
   "outputs": [],
   "source": [
    "predictions = pd.read_csv('../data/output/dist_dense_output.csv')\n",
    "prediction_features = pd.read_csv('../data/test.csv')\n",
    "pred_trends = predictions.set_index('id').join(prediction_features.set_index('id'))[['timestamp', 'price_doc']]\n",
    "pred_trends['timestamp'] = pd.to_datetime(pred_trends['timestamp'])\n",
    "pred_trends = pred_trends.set_index('timestamp')\n",
    "pred_trends = pred_trends.resample('M').mean()\n",
    "pred_trends['color'] = 'forecast'"
   ]
  },
  {
   "cell_type": "code",
   "execution_count": 4,
   "metadata": {},
   "outputs": [
    {
     "data": {
      "text/plain": [
       "<matplotlib.axes._subplots.AxesSubplot at 0x7f5e681c3828>"
      ]
     },
     "execution_count": 4,
     "metadata": {},
     "output_type": "execute_result"
    },
    {
     "data": {
      "image/png": "[encoded data removed]",
      "text/plain": [
       "<Figure size 432x288 with 1 Axes>"
      ]
     },
     "metadata": {
      "needs_background": "light"
     },
     "output_type": "display_data"
    }
   ],
   "source": [
    "all_trends = price_trends.append(pred_trends)\n",
    "all_trends.pivot(columns='color', values='price_doc').plot(title='historical and forecasted mean price by month')"
   ]
  },
  {
   "cell_type": "code",
   "execution_count": 178,
   "metadata": {
    "scrolled": true
   },
   "outputs": [
    {
     "name": "stderr",
     "output_type": "stream",
     "text": [
      "/usr/local/lib/python3.6/dist-packages/IPython/core/interactiveshell.py:3326: FutureWarning: arrays to stack must be passed as a \"sequence\" type such as list or tuple. Support for non-sequence iterables such as generators is deprecated as of NumPy 1.16 and will raise an error in the future.\n",
      "  exec(code_obj, self.user_global_ns, self.user_ns)\n"
     ]
    }
   ],
   "source": [
    "def window_stack(a, step_size=1, width=3):\n",
    "    \"\"\"\n",
    "    Returns sliding window of numpy matrix by <width> timesteps stacked\n",
    "    e.g., for input matrix of (X, 33) with width 100\n",
    "    returns (X-99, 100, 33)\n",
    "    \"\"\"\n",
    "    return np.stack((a[i:1 + i - width or None:step_size] for i in range(0, width)),\n",
    "                    axis=1)\n",
    "\n",
    "macros = pd.read_csv('../data/macro.csv').fillna(method='ffill').fillna(method='bfill').iloc[:-1]\n",
    "macros['timestamp'] = pd.to_datetime(macros['timestamp'])\n",
    "macros = macros.set_index('timestamp')\n",
    "monthly_means = macros.resample('M').mean().reset_index()\n",
    "scaler = StandardScaler().fit(monthly_means.iloc[:, 1:])\n",
    "# monthly_means.iloc[:, 1:] = scaler.transform(monthly_means.iloc[:, 1:])\n",
    "\n",
    "lookback_months = 12\n",
    "rolling_windows = window_stack(monthly_means, width=lookback_months)\n",
    "num_months, _, num_features = rolling_windows.shape\n",
    "\n",
    "flattened_df = pd.DataFrame(rolling_windows.reshape(num_months, -1))\n",
    "flattened_df['timestamp'] = flattened_df.iloc[:, -1 * num_features]\n",
    "all_dates_df = flattened_df.set_index('timestamp').asfreq('D', method='ffill')"
   ]
  },
  {
   "cell_type": "code",
   "execution_count": 179,
   "metadata": {
    "scrolled": true
   },
   "outputs": [
    {
     "name": "stdout",
     "output_type": "stream",
     "text": [
      "2016-08-11T00:00:00.000000000\n",
      "           0        1        2    3      4      5        6       7     8   \\\n",
      "0  2015-08-31  45.5825  19284.1 -4.5  494.4  581.2  123.661  11.428  18.6   \n",
      "1  2015-09-30  47.0118  19284.1 -4.5  496.1  581.9  123.661   9.838  18.6   \n",
      "2  2015-10-31  47.3436  21294.4 -3.7    499  575.5  123.661  10.501  -3.4   \n",
      "3  2015-11-30  42.3962  21294.4 -3.7  502.7  585.5  123.661  11.246  -3.4   \n",
      "4  2015-12-31  36.7805  21294.4 -3.7  506.4  581.6  123.661  10.108  -3.4   \n",
      "5  2016-01-31  29.1125  22016.1 -3.8  510.3  568.7   133.16  12.663   9.4   \n",
      "6  2016-02-29  30.5943  22016.1 -3.8  515.2  560.8   133.16   8.481   9.4   \n",
      "7  2016-03-31  36.6171  22016.1 -3.8  518.5  551.9   133.16   7.991   9.4   \n",
      "8  2016-04-30  39.9762  18561.3 -1.2  520.9  569.1   133.16   8.721     8   \n",
      "9  2016-05-31  45.0185  18561.3 -1.2  523.2    584   133.16   7.439     8   \n",
      "10 2016-06-30  46.6518  18561.3 -1.2  525.3  589.6   133.16   8.421     8   \n",
      "11 2016-07-31  43.6614  19979.4 -0.6  527.2  605.3   133.16   9.085  -0.9   \n",
      "\n",
      "         9   ...   87     88   89       90    91      92    93    94     95  \\\n",
      "0   65.3925  ...  271  10805  627  0.45888  1440  463938  28.2  76.2  46080   \n",
      "1   66.8796  ...  271  10805  627  0.45888  1440  463938  28.2  76.2  46080   \n",
      "2   63.0882  ...  271  10805  627  0.45888  1440  463938  28.2  76.2  46080   \n",
      "3   65.1565  ...  271  10805  627  0.45888  1440  463938  28.2  76.2  46080   \n",
      "4    70.106  ...  271  10805  627  0.45888  1440  463938  28.2  76.2  46080   \n",
      "5   76.4938  ...  271  10805  627  0.45888  1440  463938  28.2  76.2  46080   \n",
      "6   77.2743  ...  271  10805  627  0.45888  1440  463938  28.2  76.2  46080   \n",
      "7   69.8368  ...  271  10805  627  0.45888  1440  463938  28.2  76.2  46080   \n",
      "8   66.5697  ...  271  10805  627  0.45888  1440  463938  28.2  76.2  46080   \n",
      "9   65.9143  ...  271  10805  627  0.45888  1440  463938  28.2  76.2  46080   \n",
      "10  65.0381  ...  271  10805  627  0.45888  1440  463938  28.2  76.2  46080   \n",
      "11  64.4145  ...  271  10805  627  0.45888  1440  463938  28.2  76.2  46080   \n",
      "\n",
      "        96  \n",
      "0   234577  \n",
      "1   234577  \n",
      "2   234577  \n",
      "3   234577  \n",
      "4   234577  \n",
      "5   234577  \n",
      "6   234577  \n",
      "7   234577  \n",
      "8   234577  \n",
      "9   234577  \n",
      "10  234577  \n",
      "11  234577  \n",
      "\n",
      "[12 rows x 97 columns]\n"
     ]
    }
   ],
   "source": [
    "sample_date = all_dates_df.index.values[2050]\n",
    "sample_data = pd.DataFrame(all_dates_df.iloc[2050].values.reshape(-1, num_features))\n",
    "#sample_data.iloc[:, 1:] = scaler.inverse_transform(sample_data.iloc[:, 1:])\n",
    "print(sample_date)\n",
    "print(sample_data)"
   ]
  },
  {
   "cell_type": "code",
   "execution_count": 186,
   "metadata": {},
   "outputs": [
    {
     "name": "stdout",
     "output_type": "stream",
     "text": [
      "           0        1        2    3      4      5        6       7     8   \\\n",
      "0  2014-09-30  95.6732  18884.6  0.7  428.6  514.7  113.465  18.076  21.5   \n",
      "1  2014-10-31  86.6257  20406.9  0.9  431.4  510.8  113.465  14.256   7.2   \n",
      "2  2014-11-30  78.9665  20406.9  0.9  434.9  512.5  113.465   16.54   7.2   \n",
      "3  2014-12-31  61.2833  20406.9  0.9  440.5  510.1  113.465  15.317   7.2   \n",
      "4  2015-01-31  46.3414  21514.7  0.4    452  513.9  123.661  15.183  75.8   \n",
      "5  2015-02-28   57.863  21514.7  0.4  469.4  520.7  123.661  16.889  75.8   \n",
      "6  2015-03-31  54.6423  21514.7  0.4  479.8  531.7  123.661  14.695  75.8   \n",
      "7  2015-04-30  59.1295  18209.7 -2.8  485.6    561  123.661   16.65  32.9   \n",
      "8  2015-05-31  63.3737  18209.7 -2.8  487.8  575.9  123.661  15.602  32.9   \n",
      "9  2015-06-30  61.4105  18209.7 -2.8  489.5  568.9  123.661  16.416  32.9   \n",
      "10 2015-07-31  55.8961  19284.1 -4.5  490.5  572.8  123.661  14.788  18.6   \n",
      "11 2015-08-31  45.5825  19284.1 -4.5  494.4  581.2  123.661  11.428  18.6   \n",
      "\n",
      "         9   ...   87     88   89       90    91      92    93    94     95  \\\n",
      "0    38.036  ...  271  10311  627  0.44784  1440  398451  28.2  76.2  46080   \n",
      "1   40.8895  ...  271  10311  627  0.44784  1440  398451  28.2  76.2  46080   \n",
      "2    46.358  ...  271  10311  627  0.44784  1440  398451  28.2  76.2  46080   \n",
      "3   56.4569  ...  271  10311  627  0.44784  1440  398451  28.2  76.2  46080   \n",
      "4   63.9587  ...  271  10805  627  0.45888  1440  463938  28.2  76.2  46080   \n",
      "5   64.3407  ...  271  10805  627  0.45888  1440  463938  28.2  76.2  46080   \n",
      "6   60.1534  ...  271  10805  627  0.45888  1440  463938  28.2  76.2  46080   \n",
      "7   52.9329  ...  271  10805  627  0.45888  1440  463938  28.2  76.2  46080   \n",
      "8   50.7313  ...  271  10805  627  0.45888  1440  463938  28.2  76.2  46080   \n",
      "9    54.715  ...  271  10805  627  0.45888  1440  463938  28.2  76.2  46080   \n",
      "10  57.3501  ...  271  10805  627  0.45888  1440  463938  28.2  76.2  46080   \n",
      "11  65.3925  ...  271  10805  627  0.45888  1440  463938  28.2  76.2  46080   \n",
      "\n",
      "        96  \n",
      "0   229295  \n",
      "1   229295  \n",
      "2   229295  \n",
      "3   229295  \n",
      "4   234577  \n",
      "5   234577  \n",
      "6   234577  \n",
      "7   234577  \n",
      "8   234577  \n",
      "9   234577  \n",
      "10  234577  \n",
      "11  234577  \n",
      "\n",
      "[12 rows x 97 columns]\n"
     ]
    }
   ],
   "source": [
    "print(pd.DataFrame(all_dates_df.loc['2015-09-16'].values.reshape(-1, num_features)))"
   ]
  }
 ],
 "metadata": {
  "kernelspec": {
   "display_name": "Python 3",
   "language": "python",
   "name": "python3"
  },
  "language_info": {
   "codemirror_mode": {
    "name": "ipython",
    "version": 3
   },
   "file_extension": ".py",
   "mimetype": "text/x-python",
   "name": "python",
   "nbconvert_exporter": "python",
   "pygments_lexer": "ipython3",
   "version": "3.6.8"
  }
 },
 "nbformat": 4,
 "nbformat_minor": 2
}
